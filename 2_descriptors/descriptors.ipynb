{
 "cells": [
  {
   "cell_type": "code",
   "execution_count": 6,
   "id": "8706bfe5-7918-47b6-9401-3daf68e1d76b",
   "metadata": {},
   "outputs": [
    {
     "name": "stdout",
     "output_type": "stream",
     "text": [
      "Requirement already satisfied: mordred[full] in /home/student/anaconda3/envs/algos/lib/python3.12/site-packages (1.2.0)\n",
      "Requirement already satisfied: six==1.* in /home/student/anaconda3/envs/algos/lib/python3.12/site-packages (from mordred[full]) (1.16.0)\n",
      "Requirement already satisfied: numpy==1.* in /home/student/anaconda3/envs/algos/lib/python3.12/site-packages (from mordred[full]) (1.26.4)\n",
      "Requirement already satisfied: networkx==2.* in /home/student/anaconda3/envs/algos/lib/python3.12/site-packages (from mordred[full]) (2.8.8)\n",
      "Requirement already satisfied: pandas in /home/student/anaconda3/envs/algos/lib/python3.12/site-packages (from mordred[full]) (2.2.1)\n",
      "Requirement already satisfied: tqdm in /home/student/anaconda3/envs/algos/lib/python3.12/site-packages (from mordred[full]) (4.66.2)\n",
      "Requirement already satisfied: python-dateutil>=2.8.2 in /home/student/anaconda3/envs/algos/lib/python3.12/site-packages (from pandas->mordred[full]) (2.8.2)\n",
      "Requirement already satisfied: pytz>=2020.1 in /home/student/anaconda3/envs/algos/lib/python3.12/site-packages (from pandas->mordred[full]) (2023.3.post1)\n",
      "Requirement already satisfied: tzdata>=2022.7 in /home/student/anaconda3/envs/algos/lib/python3.12/site-packages (from pandas->mordred[full]) (2023.3)\n"
     ]
    }
   ],
   "source": [
    "!pip install pandas>None\n",
    "!pip install rdkit>None\n",
    "!pip install pubchempy>None\n",
    "!pip install 'mordred[full]'"
   ]
  },
  {
   "cell_type": "code",
   "execution_count": 7,
   "id": "c4f39796-02d8-4c68-8d48-9a68515c68cb",
   "metadata": {},
   "outputs": [
    {
     "ename": "ModuleNotFoundError",
     "evalue": "No module named 'mordred'",
     "output_type": "error",
     "traceback": [
      "\u001b[0;31m---------------------------------------------------------------------------\u001b[0m",
      "\u001b[0;31mModuleNotFoundError\u001b[0m                       Traceback (most recent call last)",
      "Cell \u001b[0;32mIn[7], line 7\u001b[0m\n\u001b[1;32m      5\u001b[0m \u001b[38;5;28;01mfrom\u001b[39;00m \u001b[38;5;21;01mrdkit\u001b[39;00m\u001b[38;5;21;01m.\u001b[39;00m\u001b[38;5;21;01mChem\u001b[39;00m \u001b[38;5;28;01mimport\u001b[39;00m rdMolDescriptors\n\u001b[1;32m      6\u001b[0m \u001b[38;5;28;01mfrom\u001b[39;00m \u001b[38;5;21;01mrdkit\u001b[39;00m\u001b[38;5;21;01m.\u001b[39;00m\u001b[38;5;21;01mChem\u001b[39;00m \u001b[38;5;28;01mimport\u001b[39;00m Descriptors\n\u001b[0;32m----> 7\u001b[0m \u001b[38;5;28;01mfrom\u001b[39;00m \u001b[38;5;21;01mmordred\u001b[39;00m \u001b[38;5;28;01mimport\u001b[39;00m Calculator, descriptors\n",
      "\u001b[0;31mModuleNotFoundError\u001b[0m: No module named 'mordred'"
     ]
    }
   ],
   "source": [
    "import pandas as pd\n",
    "import pubchempy as pcp\n",
    "import numpy as np\n",
    "from rdkit import Chem\n",
    "from rdkit.Chem import rdMolDescriptors\n",
    "from rdkit.Chem import Descriptors\n",
    "from mordred import Calculator, descriptors"
   ]
  },
  {
   "cell_type": "code",
   "execution_count": null,
   "id": "2c5c9c1a-8f42-4d53-8545-74ae0dfec870",
   "metadata": {},
   "outputs": [],
   "source": [
    "df = pd.read_csv('/home/student/Desktop/enam/data_preprocessing/1_algs.csv')"
   ]
  },
  {
   "cell_type": "code",
   "execution_count": null,
   "id": "8d936fa1-f4fb-47b9-a19b-9e5a23e83e2c",
   "metadata": {},
   "outputs": [],
   "source": [
    "df\n",
    "df.info()"
   ]
  },
  {
   "cell_type": "code",
   "execution_count": null,
   "id": "63d73851-d071-426a-b197-7e67d8a4d744",
   "metadata": {},
   "outputs": [],
   "source": [
    "# Получение списка доступных дескрипторов\n",
    "descriptor_names = list(rdMolDescriptors.Properties.GetAvailableProperties())\n",
    "get_descriptors = rdMolDescriptors.Properties(descriptor_names)\n",
    "num_descriptors = len(descriptor_names)\n",
    "\n",
    "# Инициализация пустой матрицы для дескрипторов\n",
    "descriptors_set = np.empty((0, num_descriptors), float)\n",
    "\n",
    "# Расчет дескрипторов\n",
    "for _, row in df.iterrows():\n",
    "    smiles = row['smiles']\n",
    "    molecule = Chem.MolFromSmiles(smiles)\n",
    "\n",
    "    if molecule is not None:\n",
    "        descriptor = np.array(get_descriptors.ComputeProperties(molecule)).reshape((-1, num_descriptors))\n",
    "        descriptors_set = np.append(descriptors_set, descriptor, axis=0)\n",
    "\n",
    "# Создание DataFrame с дескрипторами\n",
    "df_descriptors = pd.DataFrame(descriptors_set, columns=descriptor_names)\n",
    "\n",
    "# Объединение существующего датасета с новыми дескрипторами\n",
    "df_rdkit = pd.concat([df, df_descriptors], axis=1)\n"
   ]
  },
  {
   "cell_type": "code",
   "execution_count": 6,
   "id": "dc76de94-0515-419b-a7f6-9bdbcfe16bf0",
   "metadata": {},
   "outputs": [
    {
     "name": "stdout",
     "output_type": "stream",
     "text": [
      "<class 'pandas.core.frame.DataFrame'>\n",
      "RangeIndex: 20000 entries, 0 to 19999\n",
      "Data columns (total 61 columns):\n",
      " #   Column                           Non-Null Count  Dtype  \n",
      "---  ------                           --------------  -----  \n",
      " 0   Unnamed: 0                       20000 non-null  int64  \n",
      " 1   mol_id                           20000 non-null  object \n",
      " 2   smiles                           20000 non-null  object \n",
      " 3   A                                20000 non-null  float64\n",
      " 4   B                                20000 non-null  float64\n",
      " 5   C                                20000 non-null  float64\n",
      " 6   mu                               20000 non-null  float64\n",
      " 7   alpha                            20000 non-null  float64\n",
      " 8   homo                             20000 non-null  float64\n",
      " 9   lumo                             20000 non-null  float64\n",
      " 10  gap                              20000 non-null  float64\n",
      " 11  r2                               20000 non-null  float64\n",
      " 12  zpve                             20000 non-null  float64\n",
      " 13  u0                               20000 non-null  float64\n",
      " 14  u298                             20000 non-null  float64\n",
      " 15  h298                             20000 non-null  float64\n",
      " 16  g298                             20000 non-null  float64\n",
      " 17  cv                               20000 non-null  float64\n",
      " 18  exactmw                          20000 non-null  float64\n",
      " 19  amw                              20000 non-null  float64\n",
      " 20  lipinskiHBA                      20000 non-null  float64\n",
      " 21  lipinskiHBD                      20000 non-null  float64\n",
      " 22  NumRotatableBonds                20000 non-null  float64\n",
      " 23  NumHBD                           20000 non-null  float64\n",
      " 24  NumHBA                           20000 non-null  float64\n",
      " 25  NumHeavyAtoms                    20000 non-null  float64\n",
      " 26  NumAtoms                         20000 non-null  float64\n",
      " 27  NumHeteroatoms                   20000 non-null  float64\n",
      " 28  NumAmideBonds                    20000 non-null  float64\n",
      " 29  FractionCSP3                     20000 non-null  float64\n",
      " 30  NumRings                         20000 non-null  float64\n",
      " 31  NumAromaticRings                 20000 non-null  float64\n",
      " 32  NumAliphaticRings                20000 non-null  float64\n",
      " 33  NumSaturatedRings                20000 non-null  float64\n",
      " 34  NumHeterocycles                  20000 non-null  float64\n",
      " 35  NumAromaticHeterocycles          20000 non-null  float64\n",
      " 36  NumSaturatedHeterocycles         20000 non-null  float64\n",
      " 37  NumAliphaticHeterocycles         20000 non-null  float64\n",
      " 38  NumSpiroAtoms                    20000 non-null  float64\n",
      " 39  NumBridgeheadAtoms               20000 non-null  float64\n",
      " 40  NumAtomStereoCenters             20000 non-null  float64\n",
      " 41  NumUnspecifiedAtomStereoCenters  20000 non-null  float64\n",
      " 42  labuteASA                        20000 non-null  float64\n",
      " 43  tpsa                             20000 non-null  float64\n",
      " 44  CrippenClogP                     20000 non-null  float64\n",
      " 45  CrippenMR                        20000 non-null  float64\n",
      " 46  chi0v                            20000 non-null  float64\n",
      " 47  chi1v                            20000 non-null  float64\n",
      " 48  chi2v                            20000 non-null  float64\n",
      " 49  chi3v                            20000 non-null  float64\n",
      " 50  chi4v                            20000 non-null  float64\n",
      " 51  chi0n                            20000 non-null  float64\n",
      " 52  chi1n                            20000 non-null  float64\n",
      " 53  chi2n                            20000 non-null  float64\n",
      " 54  chi3n                            20000 non-null  float64\n",
      " 55  chi4n                            20000 non-null  float64\n",
      " 56  hallKierAlpha                    20000 non-null  float64\n",
      " 57  kappa1                           20000 non-null  float64\n",
      " 58  kappa2                           20000 non-null  float64\n",
      " 59  kappa3                           20000 non-null  float64\n",
      " 60  Phi                              20000 non-null  float64\n",
      "dtypes: float64(58), int64(1), object(2)\n",
      "memory usage: 9.3+ MB\n"
     ]
    }
   ],
   "source": [
    "df_rdkit\n",
    "df_rdkit.info()"
   ]
  },
  {
   "cell_type": "code",
   "execution_count": 7,
   "id": "71c73c40-f207-4c98-b47c-7a3762922b03",
   "metadata": {},
   "outputs": [
    {
     "name": "stdout",
     "output_type": "stream",
     "text": [
      "       Unnamed: 0      mol_id                    smiles        A        B  \\\n",
      "0            3249    gdb_3250             C1CC11OC2CC12  6.20100  2.37357   \n",
      "1           54069   gdb_54070  NC(=[NH2+])C([N-]C=O)C#N  2.34937  1.13704   \n",
      "2           70760   gdb_70761             OC12CC1OCCOC2  2.49407  1.66830   \n",
      "3           51650   gdb_51651            O=CNC1CC2CC2C1  3.56977  1.08344   \n",
      "4          115918  gdb_115919             CCC1COC2CC2C1  3.51047  1.06282   \n",
      "...           ...         ...                       ...      ...      ...   \n",
      "19995       38825   gdb_38826          C1C2OC3CC=CCC123  2.95820  1.74625   \n",
      "19996       39840   gdb_39841       C1C2C3OC3C3(CC3)N12  2.90099  1.80710   \n",
      "19997       36633   gdb_36634           C1COC(=N1)NCC#N  6.14092  0.76405   \n",
      "19998       68055   gdb_68056        CC12CC(C)(O1)C2C#C  2.05970  1.80984   \n",
      "19999       32429   gdb_32430          Cc1c([nH]cc1NC)C  3.06619  1.18229   \n",
      "\n",
      "             C      mu  alpha    homo    lumo  ...     chi0n     chi1n  \\\n",
      "0      2.19360  1.5784  61.05 -0.2252  0.0797  ...  4.184269  3.085438   \n",
      "1      0.81606  6.1857  69.45 -0.2611 -0.0157  ...  4.612077  2.130407   \n",
      "2      1.22738  1.2555  71.31 -0.2339  0.0816  ...  5.169488  3.229365   \n",
      "3      1.04209  3.6245  79.17 -0.2477  0.0311  ...  5.338970  3.595876   \n",
      "4      0.90254  1.3573  84.80 -0.2222  0.0787  ...  5.968726  4.014307   \n",
      "...        ...     ...    ...     ...     ...  ...       ...       ...   \n",
      "19995  1.23316  1.6708  79.83 -0.2288  0.0280  ...  5.338970  3.722188   \n",
      "19996  1.43546  0.9974  75.04 -0.2236  0.0647  ...  5.208833  3.840135   \n",
      "19997  0.70079  4.2257  72.16 -0.2356  0.0160  ...  4.923996  2.713347   \n",
      "19998  1.15775  1.7443  82.89 -0.2354  0.0413  ...  5.770056  3.270056   \n",
      "19999  0.86874  1.3122  88.61 -0.1651  0.0592  ...  6.077350  3.077350   \n",
      "\n",
      "          chi2n     chi3n     chi4n  hallKierAlpha    kappa1    kappa2  \\\n",
      "0      2.536530  2.536530  1.783902          -0.04  3.079539  0.575631   \n",
      "1      0.647952  0.647952  0.254793          -1.57  7.430000  3.434259   \n",
      "2      1.876792  1.876792  1.126238          -0.12  5.648739  1.684602   \n",
      "3      2.547314  2.547314  1.947086          -0.53  5.270170  1.723431   \n",
      "4      2.617147  2.617147  1.712343          -0.04  5.722891  1.978612   \n",
      "...         ...       ...       ...            ...       ...       ...   \n",
      "19995  3.031027  3.031027  2.229180          -0.30  4.505398  1.103300   \n",
      "19996  3.419155  3.419155  2.659730          -0.08  3.937882  0.789326   \n",
      "19997  0.904149  0.904149  0.557225          -1.24  5.888866  2.922695   \n",
      "19998  2.556295  2.556295  2.352505          -0.48  5.316201  1.041465   \n",
      "19999  1.668857  1.668857  0.858600          -0.92  6.203762  2.131871   \n",
      "\n",
      "         kappa3       Phi  \n",
      "0      0.193808  0.253240  \n",
      "1      2.285814  2.835171  \n",
      "2      0.852208  1.057319  \n",
      "3      0.823964  1.009197  \n",
      "4      0.983001  1.258154  \n",
      "...         ...       ...  \n",
      "19995  0.350928  0.552312  \n",
      "19996  0.256123  0.345364  \n",
      "19997  1.607907  1.912373  \n",
      "19998  0.351831  0.615182  \n",
      "19999  0.921627  1.469513  \n",
      "\n",
      "[20000 rows x 61 columns]\n",
      "<class 'pandas.core.frame.DataFrame'>\n",
      "RangeIndex: 20000 entries, 0 to 19999\n",
      "Data columns (total 61 columns):\n",
      " #   Column                           Non-Null Count  Dtype  \n",
      "---  ------                           --------------  -----  \n",
      " 0   Unnamed: 0                       20000 non-null  int64  \n",
      " 1   mol_id                           20000 non-null  object \n",
      " 2   smiles                           20000 non-null  object \n",
      " 3   A                                20000 non-null  float64\n",
      " 4   B                                20000 non-null  float64\n",
      " 5   C                                20000 non-null  float64\n",
      " 6   mu                               20000 non-null  float64\n",
      " 7   alpha                            20000 non-null  float64\n",
      " 8   homo                             20000 non-null  float64\n",
      " 9   lumo                             20000 non-null  float64\n",
      " 10  gap                              20000 non-null  float64\n",
      " 11  r2                               20000 non-null  float64\n",
      " 12  zpve                             20000 non-null  float64\n",
      " 13  u0                               20000 non-null  float64\n",
      " 14  u298                             20000 non-null  float64\n",
      " 15  h298                             20000 non-null  float64\n",
      " 16  g298                             20000 non-null  float64\n",
      " 17  cv                               20000 non-null  float64\n",
      " 18  exactmw                          20000 non-null  float64\n",
      " 19  amw                              20000 non-null  float64\n",
      " 20  lipinskiHBA                      20000 non-null  float64\n",
      " 21  lipinskiHBD                      20000 non-null  float64\n",
      " 22  NumRotatableBonds                20000 non-null  float64\n",
      " 23  NumHBD                           20000 non-null  float64\n",
      " 24  NumHBA                           20000 non-null  float64\n",
      " 25  NumHeavyAtoms                    20000 non-null  float64\n",
      " 26  NumAtoms                         20000 non-null  float64\n",
      " 27  NumHeteroatoms                   20000 non-null  float64\n",
      " 28  NumAmideBonds                    20000 non-null  float64\n",
      " 29  FractionCSP3                     20000 non-null  float64\n",
      " 30  NumRings                         20000 non-null  float64\n",
      " 31  NumAromaticRings                 20000 non-null  float64\n",
      " 32  NumAliphaticRings                20000 non-null  float64\n",
      " 33  NumSaturatedRings                20000 non-null  float64\n",
      " 34  NumHeterocycles                  20000 non-null  float64\n",
      " 35  NumAromaticHeterocycles          20000 non-null  float64\n",
      " 36  NumSaturatedHeterocycles         20000 non-null  float64\n",
      " 37  NumAliphaticHeterocycles         20000 non-null  float64\n",
      " 38  NumSpiroAtoms                    20000 non-null  float64\n",
      " 39  NumBridgeheadAtoms               20000 non-null  float64\n",
      " 40  NumAtomStereoCenters             20000 non-null  float64\n",
      " 41  NumUnspecifiedAtomStereoCenters  20000 non-null  float64\n",
      " 42  labuteASA                        20000 non-null  float64\n",
      " 43  tpsa                             20000 non-null  float64\n",
      " 44  CrippenClogP                     20000 non-null  float64\n",
      " 45  CrippenMR                        20000 non-null  float64\n",
      " 46  chi0v                            20000 non-null  float64\n",
      " 47  chi1v                            20000 non-null  float64\n",
      " 48  chi2v                            20000 non-null  float64\n",
      " 49  chi3v                            20000 non-null  float64\n",
      " 50  chi4v                            20000 non-null  float64\n",
      " 51  chi0n                            20000 non-null  float64\n",
      " 52  chi1n                            20000 non-null  float64\n",
      " 53  chi2n                            20000 non-null  float64\n",
      " 54  chi3n                            20000 non-null  float64\n",
      " 55  chi4n                            20000 non-null  float64\n",
      " 56  hallKierAlpha                    20000 non-null  float64\n",
      " 57  kappa1                           20000 non-null  float64\n",
      " 58  kappa2                           20000 non-null  float64\n",
      " 59  kappa3                           20000 non-null  float64\n",
      " 60  Phi                              20000 non-null  float64\n",
      "dtypes: float64(58), int64(1), object(2)\n",
      "memory usage: 9.3+ MB\n",
      "None\n"
     ]
    }
   ],
   "source": [
    "df_rdkit = df_rdkit.dropna(how='any')\n",
    "print(df_rdkit)\n",
    "print(df_rdkit.info())"
   ]
  },
  {
   "cell_type": "code",
   "execution_count": 8,
   "id": "8664635f-2332-405d-b060-08245b45d9be",
   "metadata": {},
   "outputs": [
    {
     "name": "stdout",
     "output_type": "stream",
     "text": [
      "<class 'pandas.core.series.Series'>\n"
     ]
    }
   ],
   "source": [
    "print(type(df_rdkit['smiles']))"
   ]
  },
  {
   "cell_type": "code",
   "execution_count": 5,
   "id": "37175bdd-9c15-4a09-afba-20493be78611",
   "metadata": {},
   "outputs": [
    {
     "ename": "NameError",
     "evalue": "name 'Calculator' is not defined",
     "output_type": "error",
     "traceback": [
      "\u001b[0;31m---------------------------------------------------------------------------\u001b[0m",
      "\u001b[0;31mNameError\u001b[0m                                 Traceback (most recent call last)",
      "Cell \u001b[0;32mIn[5], line 1\u001b[0m\n\u001b[0;32m----> 1\u001b[0m calc \u001b[38;5;241m=\u001b[39m \u001b[43mCalculator\u001b[49m(descriptors, ignore_3D\u001b[38;5;241m=\u001b[39m\u001b[38;5;28;01mTrue\u001b[39;00m)\n\u001b[1;32m      2\u001b[0m mols \u001b[38;5;241m=\u001b[39m []\n\u001b[1;32m      3\u001b[0m \u001b[38;5;28;01mfor\u001b[39;00m i \u001b[38;5;129;01min\u001b[39;00m df_rdkit[\u001b[38;5;124m'\u001b[39m\u001b[38;5;124msmiles\u001b[39m\u001b[38;5;124m'\u001b[39m]:\n",
      "\u001b[0;31mNameError\u001b[0m: name 'Calculator' is not defined"
     ]
    }
   ],
   "source": [
    "calc = Calculator(descriptors, ignore_3D=True)\n",
    "mols = []\n",
    "for i in df_rdkit['smiles']:\n",
    "    mol = Chem.MolFromSmiles(i)\n",
    "    if mol is not None:\n",
    "        mols.append(mol)\n",
    "\n",
    "data_m = calc.pandas(mols)\n",
    "\n",
    "df_all = pd.concat([df_rdkit, data_m], axis=1)"
   ]
  },
  {
   "cell_type": "code",
   "execution_count": null,
   "id": "2841eb48-10db-4a66-ae58-499aa625f016",
   "metadata": {},
   "outputs": [],
   "source": [
    "df_all.to_csv('/home/student/Desktop/enam/data_preprocessing/2_all_descriptors.csv')"
   ]
  },
  {
   "cell_type": "code",
   "execution_count": null,
   "id": "f1499bfb-c869-4674-b963-e8d99ee0ae16",
   "metadata": {},
   "outputs": [],
   "source": []
  }
 ],
 "metadata": {
  "kernelspec": {
   "display_name": "Python 3 (ipykernel)",
   "language": "python",
   "name": "python3"
  },
  "language_info": {
   "codemirror_mode": {
    "name": "ipython",
    "version": 3
   },
   "file_extension": ".py",
   "mimetype": "text/x-python",
   "name": "python",
   "nbconvert_exporter": "python",
   "pygments_lexer": "ipython3",
   "version": "3.10.12"
  }
 },
 "nbformat": 4,
 "nbformat_minor": 5
}

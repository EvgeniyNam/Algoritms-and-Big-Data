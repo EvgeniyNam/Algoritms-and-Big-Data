{
  "nbformat": 4,
  "nbformat_minor": 0,
  "metadata": {
    "colab": {
      "provenance": []
    },
    "kernelspec": {
      "name": "python3",
      "display_name": "Python 3"
    },
    "language_info": {
      "name": "python"
    }
  },
  "cells": [
    {
      "cell_type": "code",
      "execution_count": null,
      "metadata": {
        "colab": {
          "base_uri": "https://localhost:8080/"
        },
        "id": "NVagCxoY2xiA",
        "outputId": "1243686e-6803-4de2-8206-843b481c0e9f"
      },
      "outputs": [
        {
          "output_type": "stream",
          "name": "stdout",
          "text": [
            "Collecting mordred[full]\n",
            "  Downloading mordred-1.2.0.tar.gz (128 kB)\n",
            "\u001b[2K     \u001b[90m━━━━━━━━━━━━━━━━━━━━━━━━━━━━━━━━━━━━━━━━\u001b[0m \u001b[32m128.8/128.8 kB\u001b[0m \u001b[31m3.7 MB/s\u001b[0m eta \u001b[36m0:00:00\u001b[0m\n",
            "\u001b[?25h  Preparing metadata (setup.py) ... \u001b[?25l\u001b[?25hdone\n",
            "Requirement already satisfied: six==1.* in /usr/local/lib/python3.10/dist-packages (from mordred[full]) (1.16.0)\n",
            "Requirement already satisfied: numpy==1.* in /usr/local/lib/python3.10/dist-packages (from mordred[full]) (1.25.2)\n",
            "Collecting networkx==2.* (from mordred[full])\n",
            "  Downloading networkx-2.8.8-py3-none-any.whl (2.0 MB)\n",
            "\u001b[2K     \u001b[90m━━━━━━━━━━━━━━━━━━━━━━━━━━━━━━━━━━━━━━━━\u001b[0m \u001b[32m2.0/2.0 MB\u001b[0m \u001b[31m13.0 MB/s\u001b[0m eta \u001b[36m0:00:00\u001b[0m\n",
            "\u001b[?25hRequirement already satisfied: pandas in /usr/local/lib/python3.10/dist-packages (from mordred[full]) (1.5.3)\n",
            "Requirement already satisfied: tqdm in /usr/local/lib/python3.10/dist-packages (from mordred[full]) (4.66.2)\n",
            "Requirement already satisfied: python-dateutil>=2.8.1 in /usr/local/lib/python3.10/dist-packages (from pandas->mordred[full]) (2.8.2)\n",
            "Requirement already satisfied: pytz>=2020.1 in /usr/local/lib/python3.10/dist-packages (from pandas->mordred[full]) (2023.4)\n",
            "Building wheels for collected packages: mordred\n",
            "  Building wheel for mordred (setup.py) ... \u001b[?25l\u001b[?25hdone\n",
            "  Created wheel for mordred: filename=mordred-1.2.0-py3-none-any.whl size=176720 sha256=244b64c02823dd7111358c030acdbe9bddb3139ed6bf1ba26f2691d21a2d0a43\n",
            "  Stored in directory: /root/.cache/pip/wheels/a7/4f/b8/d4c6591f6ac944aaced7865b349477695f662388ad958743c7\n",
            "Successfully built mordred\n",
            "Installing collected packages: networkx, mordred\n",
            "  Attempting uninstall: networkx\n",
            "    Found existing installation: networkx 3.2.1\n",
            "    Uninstalling networkx-3.2.1:\n",
            "      Successfully uninstalled networkx-3.2.1\n",
            "\u001b[31mERROR: pip's dependency resolver does not currently take into account all the packages that are installed. This behaviour is the source of the following dependency conflicts.\n",
            "torch 2.2.1+cu121 requires nvidia-cublas-cu12==12.1.3.1; platform_system == \"Linux\" and platform_machine == \"x86_64\", which is not installed.\n",
            "torch 2.2.1+cu121 requires nvidia-cuda-cupti-cu12==12.1.105; platform_system == \"Linux\" and platform_machine == \"x86_64\", which is not installed.\n",
            "torch 2.2.1+cu121 requires nvidia-cuda-nvrtc-cu12==12.1.105; platform_system == \"Linux\" and platform_machine == \"x86_64\", which is not installed.\n",
            "torch 2.2.1+cu121 requires nvidia-cuda-runtime-cu12==12.1.105; platform_system == \"Linux\" and platform_machine == \"x86_64\", which is not installed.\n",
            "torch 2.2.1+cu121 requires nvidia-cudnn-cu12==8.9.2.26; platform_system == \"Linux\" and platform_machine == \"x86_64\", which is not installed.\n",
            "torch 2.2.1+cu121 requires nvidia-cufft-cu12==11.0.2.54; platform_system == \"Linux\" and platform_machine == \"x86_64\", which is not installed.\n",
            "torch 2.2.1+cu121 requires nvidia-curand-cu12==10.3.2.106; platform_system == \"Linux\" and platform_machine == \"x86_64\", which is not installed.\n",
            "torch 2.2.1+cu121 requires nvidia-cusolver-cu12==11.4.5.107; platform_system == \"Linux\" and platform_machine == \"x86_64\", which is not installed.\n",
            "torch 2.2.1+cu121 requires nvidia-cusparse-cu12==12.1.0.106; platform_system == \"Linux\" and platform_machine == \"x86_64\", which is not installed.\n",
            "torch 2.2.1+cu121 requires nvidia-nccl-cu12==2.19.3; platform_system == \"Linux\" and platform_machine == \"x86_64\", which is not installed.\n",
            "torch 2.2.1+cu121 requires nvidia-nvtx-cu12==12.1.105; platform_system == \"Linux\" and platform_machine == \"x86_64\", which is not installed.\u001b[0m\u001b[31m\n",
            "\u001b[0mSuccessfully installed mordred-1.2.0 networkx-2.8.8\n"
          ]
        }
      ],
      "source": [
        "!pip install pandas>None\n",
        "!pip install rdkit>None\n",
        "!pip install pubchempy>None\n",
        "!pip install 'mordred[full]'"
      ]
    },
    {
      "cell_type": "code",
      "source": [
        "import pandas as pd\n",
        "import pubchempy as pcp\n",
        "import numpy as np\n",
        "from rdkit import Chem\n",
        "from rdkit.Chem import rdMolDescriptors\n",
        "from rdkit.Chem import Descriptors\n",
        "from mordred import Calculator, descriptors"
      ],
      "metadata": {
        "id": "ZtaLpYWx20Jk"
      },
      "execution_count": null,
      "outputs": []
    },
    {
      "cell_type": "code",
      "source": [
        "df = pd.read_csv('/home/student/Desktop/enam/data_preprocessing/1_algs.csv')"
      ],
      "metadata": {
        "id": "Zk5WOV_i3GFR"
      },
      "execution_count": null,
      "outputs": []
    },
    {
      "cell_type": "code",
      "source": [
        "df\n",
        "df.info()"
      ],
      "metadata": {
        "colab": {
          "base_uri": "https://localhost:8080/"
        },
        "id": "pI4GmPAO3JaR",
        "outputId": "2c8cd029-04e1-4c4e-f84a-1f23f053d043"
      },
      "execution_count": null,
      "outputs": [
        {
          "output_type": "stream",
          "name": "stdout",
          "text": [
            "<class 'pandas.core.frame.DataFrame'>\n",
            "RangeIndex: 20000 entries, 0 to 19999\n",
            "Data columns (total 18 columns):\n",
            " #   Column      Non-Null Count  Dtype  \n",
            "---  ------      --------------  -----  \n",
            " 0   Unnamed: 0  20000 non-null  int64  \n",
            " 1   mol_id      20000 non-null  object \n",
            " 2   smiles      20000 non-null  object \n",
            " 3   A           20000 non-null  float64\n",
            " 4   B           20000 non-null  float64\n",
            " 5   C           20000 non-null  float64\n",
            " 6   mu          20000 non-null  float64\n",
            " 7   alpha       20000 non-null  float64\n",
            " 8   homo        20000 non-null  float64\n",
            " 9   lumo        20000 non-null  float64\n",
            " 10  gap         20000 non-null  float64\n",
            " 11  r2          20000 non-null  float64\n",
            " 12  zpve        20000 non-null  float64\n",
            " 13  u0          20000 non-null  float64\n",
            " 14  u298        20000 non-null  float64\n",
            " 15  h298        20000 non-null  float64\n",
            " 16  g298        20000 non-null  float64\n",
            " 17  cv          20000 non-null  float64\n",
            "dtypes: float64(15), int64(1), object(2)\n",
            "memory usage: 2.7+ MB\n"
          ]
        }
      ]
    },
    {
      "cell_type": "code",
      "source": [
        "# Получение списка доступных дескрипторов\n",
        "descriptor_names = list(rdMolDescriptors.Properties.GetAvailableProperties())\n",
        "get_descriptors = rdMolDescriptors.Properties(descriptor_names)\n",
        "num_descriptors = len(descriptor_names)\n",
        "\n",
        "# Инициализация пустой матрицы для дескрипторов\n",
        "descriptors_set = np.empty((0, num_descriptors), float)\n",
        "\n",
        "# Расчет дескрипторов\n",
        "for _, row in df.iterrows():\n",
        "    smiles = row['smiles']\n",
        "    molecule = Chem.MolFromSmiles(smiles)\n",
        "\n",
        "    if molecule is not None:\n",
        "        descriptor = np.array(get_descriptors.ComputeProperties(molecule)).reshape((-1, num_descriptors))\n",
        "        descriptors_set = np.append(descriptors_set, descriptor, axis=0)\n",
        "\n",
        "# Создание DataFrame с дескрипторами\n",
        "df_descriptors = pd.DataFrame(descriptors_set, columns=descriptor_names)\n",
        "\n",
        "# Объединение существующего датасета с новыми дескрипторами\n",
        "df_rdkit = pd.concat([df, df_descriptors], axis=1)"
      ],
      "metadata": {
        "id": "28MXFF_G3Qq3"
      },
      "execution_count": null,
      "outputs": []
    },
    {
      "cell_type": "code",
      "source": [
        "df_rdkit\n",
        "df_rdkit.info()"
      ],
      "metadata": {
        "colab": {
          "base_uri": "https://localhost:8080/"
        },
        "id": "_1Fr_q_w3Rwd",
        "outputId": "fca4b641-87ce-48ad-f19d-4046ce4fdeb8"
      },
      "execution_count": null,
      "outputs": [
        {
          "output_type": "stream",
          "name": "stdout",
          "text": [
            "<class 'pandas.core.frame.DataFrame'>\n",
            "RangeIndex: 20000 entries, 0 to 19999\n",
            "Data columns (total 61 columns):\n",
            " #   Column                           Non-Null Count  Dtype  \n",
            "---  ------                           --------------  -----  \n",
            " 0   Unnamed: 0                       20000 non-null  int64  \n",
            " 1   mol_id                           20000 non-null  object \n",
            " 2   smiles                           20000 non-null  object \n",
            " 3   A                                20000 non-null  float64\n",
            " 4   B                                20000 non-null  float64\n",
            " 5   C                                20000 non-null  float64\n",
            " 6   mu                               20000 non-null  float64\n",
            " 7   alpha                            20000 non-null  float64\n",
            " 8   homo                             20000 non-null  float64\n",
            " 9   lumo                             20000 non-null  float64\n",
            " 10  gap                              20000 non-null  float64\n",
            " 11  r2                               20000 non-null  float64\n",
            " 12  zpve                             20000 non-null  float64\n",
            " 13  u0                               20000 non-null  float64\n",
            " 14  u298                             20000 non-null  float64\n",
            " 15  h298                             20000 non-null  float64\n",
            " 16  g298                             20000 non-null  float64\n",
            " 17  cv                               20000 non-null  float64\n",
            " 18  exactmw                          20000 non-null  float64\n",
            " 19  amw                              20000 non-null  float64\n",
            " 20  lipinskiHBA                      20000 non-null  float64\n",
            " 21  lipinskiHBD                      20000 non-null  float64\n",
            " 22  NumRotatableBonds                20000 non-null  float64\n",
            " 23  NumHBD                           20000 non-null  float64\n",
            " 24  NumHBA                           20000 non-null  float64\n",
            " 25  NumHeavyAtoms                    20000 non-null  float64\n",
            " 26  NumAtoms                         20000 non-null  float64\n",
            " 27  NumHeteroatoms                   20000 non-null  float64\n",
            " 28  NumAmideBonds                    20000 non-null  float64\n",
            " 29  FractionCSP3                     20000 non-null  float64\n",
            " 30  NumRings                         20000 non-null  float64\n",
            " 31  NumAromaticRings                 20000 non-null  float64\n",
            " 32  NumAliphaticRings                20000 non-null  float64\n",
            " 33  NumSaturatedRings                20000 non-null  float64\n",
            " 34  NumHeterocycles                  20000 non-null  float64\n",
            " 35  NumAromaticHeterocycles          20000 non-null  float64\n",
            " 36  NumSaturatedHeterocycles         20000 non-null  float64\n",
            " 37  NumAliphaticHeterocycles         20000 non-null  float64\n",
            " 38  NumSpiroAtoms                    20000 non-null  float64\n",
            " 39  NumBridgeheadAtoms               20000 non-null  float64\n",
            " 40  NumAtomStereoCenters             20000 non-null  float64\n",
            " 41  NumUnspecifiedAtomStereoCenters  20000 non-null  float64\n",
            " 42  labuteASA                        20000 non-null  float64\n",
            " 43  tpsa                             20000 non-null  float64\n",
            " 44  CrippenClogP                     20000 non-null  float64\n",
            " 45  CrippenMR                        20000 non-null  float64\n",
            " 46  chi0v                            20000 non-null  float64\n",
            " 47  chi1v                            20000 non-null  float64\n",
            " 48  chi2v                            20000 non-null  float64\n",
            " 49  chi3v                            20000 non-null  float64\n",
            " 50  chi4v                            20000 non-null  float64\n",
            " 51  chi0n                            20000 non-null  float64\n",
            " 52  chi1n                            20000 non-null  float64\n",
            " 53  chi2n                            20000 non-null  float64\n",
            " 54  chi3n                            20000 non-null  float64\n",
            " 55  chi4n                            20000 non-null  float64\n",
            " 56  hallKierAlpha                    20000 non-null  float64\n",
            " 57  kappa1                           20000 non-null  float64\n",
            " 58  kappa2                           20000 non-null  float64\n",
            " 59  kappa3                           20000 non-null  float64\n",
            " 60  Phi                              20000 non-null  float64\n",
            "dtypes: float64(58), int64(1), object(2)\n",
            "memory usage: 9.3+ MB\n"
          ]
        }
      ]
    },
    {
      "cell_type": "code",
      "source": [
        "df_rdkit = df_rdkit.dropna(how='any')\n",
        "print(df_rdkit)\n",
        "print(df_rdkit.info())"
      ],
      "metadata": {
        "colab": {
          "base_uri": "https://localhost:8080/"
        },
        "id": "3qfNRTep3WWy",
        "outputId": "bcce4480-6e5d-41c3-a20b-c02bfad14b56"
      },
      "execution_count": null,
      "outputs": [
        {
          "output_type": "stream",
          "name": "stdout",
          "text": [
            "       Unnamed: 0      mol_id                    smiles        A        B  \\\n",
            "0            3249    gdb_3250             C1CC11OC2CC12  6.20100  2.37357   \n",
            "1           54069   gdb_54070  NC(=[NH2+])C([N-]C=O)C#N  2.34937  1.13704   \n",
            "2           70760   gdb_70761             OC12CC1OCCOC2  2.49407  1.66830   \n",
            "3           51650   gdb_51651            O=CNC1CC2CC2C1  3.56977  1.08344   \n",
            "4          115918  gdb_115919             CCC1COC2CC2C1  3.51047  1.06282   \n",
            "...           ...         ...                       ...      ...      ...   \n",
            "19995       38825   gdb_38826          C1C2OC3CC=CCC123  2.95820  1.74625   \n",
            "19996       39840   gdb_39841       C1C2C3OC3C3(CC3)N12  2.90099  1.80710   \n",
            "19997       36633   gdb_36634           C1COC(=N1)NCC#N  6.14092  0.76405   \n",
            "19998       68055   gdb_68056        CC12CC(C)(O1)C2C#C  2.05970  1.80984   \n",
            "19999       32429   gdb_32430          Cc1c([nH]cc1NC)C  3.06619  1.18229   \n",
            "\n",
            "             C      mu  alpha    homo    lumo  ...     chi0n     chi1n  \\\n",
            "0      2.19360  1.5784  61.05 -0.2252  0.0797  ...  4.184269  3.085438   \n",
            "1      0.81606  6.1857  69.45 -0.2611 -0.0157  ...  4.612077  2.130407   \n",
            "2      1.22738  1.2555  71.31 -0.2339  0.0816  ...  5.169488  3.229365   \n",
            "3      1.04209  3.6245  79.17 -0.2477  0.0311  ...  5.338970  3.595876   \n",
            "4      0.90254  1.3573  84.80 -0.2222  0.0787  ...  5.968726  4.014307   \n",
            "...        ...     ...    ...     ...     ...  ...       ...       ...   \n",
            "19995  1.23316  1.6708  79.83 -0.2288  0.0280  ...  5.338970  3.722188   \n",
            "19996  1.43546  0.9974  75.04 -0.2236  0.0647  ...  5.208833  3.840135   \n",
            "19997  0.70079  4.2257  72.16 -0.2356  0.0160  ...  4.923996  2.713347   \n",
            "19998  1.15775  1.7443  82.89 -0.2354  0.0413  ...  5.770056  3.270056   \n",
            "19999  0.86874  1.3122  88.61 -0.1651  0.0592  ...  6.077350  3.077350   \n",
            "\n",
            "          chi2n     chi3n     chi4n  hallKierAlpha    kappa1    kappa2  \\\n",
            "0      2.536530  2.536530  1.783902          -0.04  3.079539  0.575631   \n",
            "1      0.647952  0.647952  0.254793          -1.57  7.430000  3.434259   \n",
            "2      1.876792  1.876792  1.126238          -0.12  5.648739  1.684602   \n",
            "3      2.547314  2.547314  1.947086          -0.53  5.270170  1.723431   \n",
            "4      2.617147  2.617147  1.712343          -0.04  5.722891  1.978612   \n",
            "...         ...       ...       ...            ...       ...       ...   \n",
            "19995  3.031027  3.031027  2.229180          -0.30  4.505398  1.103300   \n",
            "19996  3.419155  3.419155  2.659730          -0.08  3.937882  0.789326   \n",
            "19997  0.904149  0.904149  0.557225          -1.24  5.888866  2.922695   \n",
            "19998  2.556295  2.556295  2.352505          -0.48  5.316201  1.041465   \n",
            "19999  1.668857  1.668857  0.858600          -0.92  6.203762  2.131871   \n",
            "\n",
            "         kappa3       Phi  \n",
            "0      0.193808  0.253240  \n",
            "1      2.285814  2.835171  \n",
            "2      0.852208  1.057319  \n",
            "3      0.823964  1.009197  \n",
            "4      0.983001  1.258154  \n",
            "...         ...       ...  \n",
            "19995  0.350928  0.552312  \n",
            "19996  0.256123  0.345364  \n",
            "19997  1.607907  1.912373  \n",
            "19998  0.351831  0.615182  \n",
            "19999  0.921627  1.469513  \n",
            "\n",
            "[20000 rows x 61 columns]\n",
            "<class 'pandas.core.frame.DataFrame'>\n",
            "RangeIndex: 20000 entries, 0 to 19999\n",
            "Data columns (total 61 columns):\n",
            " #   Column                           Non-Null Count  Dtype  \n",
            "---  ------                           --------------  -----  \n",
            " 0   Unnamed: 0                       20000 non-null  int64  \n",
            " 1   mol_id                           20000 non-null  object \n",
            " 2   smiles                           20000 non-null  object \n",
            " 3   A                                20000 non-null  float64\n",
            " 4   B                                20000 non-null  float64\n",
            " 5   C                                20000 non-null  float64\n",
            " 6   mu                               20000 non-null  float64\n",
            " 7   alpha                            20000 non-null  float64\n",
            " 8   homo                             20000 non-null  float64\n",
            " 9   lumo                             20000 non-null  float64\n",
            " 10  gap                              20000 non-null  float64\n",
            " 11  r2                               20000 non-null  float64\n",
            " 12  zpve                             20000 non-null  float64\n",
            " 13  u0                               20000 non-null  float64\n",
            " 14  u298                             20000 non-null  float64\n",
            " 15  h298                             20000 non-null  float64\n",
            " 16  g298                             20000 non-null  float64\n",
            " 17  cv                               20000 non-null  float64\n",
            " 18  exactmw                          20000 non-null  float64\n",
            " 19  amw                              20000 non-null  float64\n",
            " 20  lipinskiHBA                      20000 non-null  float64\n",
            " 21  lipinskiHBD                      20000 non-null  float64\n",
            " 22  NumRotatableBonds                20000 non-null  float64\n",
            " 23  NumHBD                           20000 non-null  float64\n",
            " 24  NumHBA                           20000 non-null  float64\n",
            " 25  NumHeavyAtoms                    20000 non-null  float64\n",
            " 26  NumAtoms                         20000 non-null  float64\n",
            " 27  NumHeteroatoms                   20000 non-null  float64\n",
            " 28  NumAmideBonds                    20000 non-null  float64\n",
            " 29  FractionCSP3                     20000 non-null  float64\n",
            " 30  NumRings                         20000 non-null  float64\n",
            " 31  NumAromaticRings                 20000 non-null  float64\n",
            " 32  NumAliphaticRings                20000 non-null  float64\n",
            " 33  NumSaturatedRings                20000 non-null  float64\n",
            " 34  NumHeterocycles                  20000 non-null  float64\n",
            " 35  NumAromaticHeterocycles          20000 non-null  float64\n",
            " 36  NumSaturatedHeterocycles         20000 non-null  float64\n",
            " 37  NumAliphaticHeterocycles         20000 non-null  float64\n",
            " 38  NumSpiroAtoms                    20000 non-null  float64\n",
            " 39  NumBridgeheadAtoms               20000 non-null  float64\n",
            " 40  NumAtomStereoCenters             20000 non-null  float64\n",
            " 41  NumUnspecifiedAtomStereoCenters  20000 non-null  float64\n",
            " 42  labuteASA                        20000 non-null  float64\n",
            " 43  tpsa                             20000 non-null  float64\n",
            " 44  CrippenClogP                     20000 non-null  float64\n",
            " 45  CrippenMR                        20000 non-null  float64\n",
            " 46  chi0v                            20000 non-null  float64\n",
            " 47  chi1v                            20000 non-null  float64\n",
            " 48  chi2v                            20000 non-null  float64\n",
            " 49  chi3v                            20000 non-null  float64\n",
            " 50  chi4v                            20000 non-null  float64\n",
            " 51  chi0n                            20000 non-null  float64\n",
            " 52  chi1n                            20000 non-null  float64\n",
            " 53  chi2n                            20000 non-null  float64\n",
            " 54  chi3n                            20000 non-null  float64\n",
            " 55  chi4n                            20000 non-null  float64\n",
            " 56  hallKierAlpha                    20000 non-null  float64\n",
            " 57  kappa1                           20000 non-null  float64\n",
            " 58  kappa2                           20000 non-null  float64\n",
            " 59  kappa3                           20000 non-null  float64\n",
            " 60  Phi                              20000 non-null  float64\n",
            "dtypes: float64(58), int64(1), object(2)\n",
            "memory usage: 9.3+ MB\n",
            "None\n"
          ]
        }
      ]
    },
    {
      "cell_type": "code",
      "source": [
        "calc = Calculator(descriptors, ignore_3D=True)\n",
        "mols = []\n",
        "for i in df_rdkit['smiles']:\n",
        "    mol = Chem.MolFromSmiles(i)\n",
        "    if mol is not None:\n",
        "        mols.append(mol)\n",
        "\n",
        "data_m = calc.pandas(mols)\n",
        "print(data_m)"
      ],
      "metadata": {
        "colab": {
          "base_uri": "https://localhost:8080/"
        },
        "id": "ZruaNdwDAa_W",
        "outputId": "da5fb2d6-02ab-4dea-8cd4-2343059067f2"
      },
      "execution_count": null,
      "outputs": [
        {
          "output_type": "stream",
          "name": "stderr",
          "text": [
            "100%|██████████| 20000/20000 [28:58<00:00, 11.50it/s]\n"
          ]
        },
        {
          "output_type": "stream",
          "name": "stdout",
          "text": [
            "                                                     ABC  \\\n",
            "0      module 'numpy' has no attribute 'float'.\\n`np....   \n",
            "1      module 'numpy' has no attribute 'float'.\\n`np....   \n",
            "2      module 'numpy' has no attribute 'float'.\\n`np....   \n",
            "3      module 'numpy' has no attribute 'float'.\\n`np....   \n",
            "4      module 'numpy' has no attribute 'float'.\\n`np....   \n",
            "...                                                  ...   \n",
            "19995  module 'numpy' has no attribute 'float'.\\n`np....   \n",
            "19996  module 'numpy' has no attribute 'float'.\\n`np....   \n",
            "19997  module 'numpy' has no attribute 'float'.\\n`np....   \n",
            "19998  module 'numpy' has no attribute 'float'.\\n`np....   \n",
            "19999  module 'numpy' has no attribute 'float'.\\n`np....   \n",
            "\n",
            "                                                   ABCGG  nAcid  nBase  \\\n",
            "0      module 'numpy' has no attribute 'float'.\\n`np....      0      0   \n",
            "1      module 'numpy' has no attribute 'float'.\\n`np....      1      2   \n",
            "2      module 'numpy' has no attribute 'float'.\\n`np....      0      0   \n",
            "3      module 'numpy' has no attribute 'float'.\\n`np....      0      0   \n",
            "4      module 'numpy' has no attribute 'float'.\\n`np....      0      0   \n",
            "...                                                  ...    ...    ...   \n",
            "19995  module 'numpy' has no attribute 'float'.\\n`np....      0      0   \n",
            "19996  module 'numpy' has no attribute 'float'.\\n`np....      0      1   \n",
            "19997  module 'numpy' has no attribute 'float'.\\n`np....      0      2   \n",
            "19998  module 'numpy' has no attribute 'float'.\\n`np....      0      0   \n",
            "19999  module 'numpy' has no attribute 'float'.\\n`np....      0      0   \n",
            "\n",
            "         SpAbs_A   SpMax_A  SpDiam_A     SpAD_A   SpMAD_A   LogEE_A  ...  \\\n",
            "0       9.658901  2.718143  4.910377   9.658901  1.379843  3.207623  ...   \n",
            "1      10.199109  2.119166  4.238332  10.199109  1.133234  3.018932  ...   \n",
            "2      11.389946  2.520636  4.520636  11.389946  1.265550  3.239815  ...   \n",
            "3      11.771904  2.483274  4.510825  11.771904  1.307989  3.231131  ...   \n",
            "4      12.088180  2.444854  4.580954  12.088180  1.343131  3.226938  ...   \n",
            "...          ...       ...       ...        ...       ...       ...  ...   \n",
            "19995  12.252922  2.696306  5.061586  12.252922  1.361436  3.328906  ...   \n",
            "19996  12.842257  2.805127  4.844800  12.842257  1.426917  3.475871  ...   \n",
            "19997  11.434525  2.170086  4.170086  11.434525  1.270503  3.083775  ...   \n",
            "19998   9.982031  2.715195  5.430389   9.982031  1.109115  3.262730  ...   \n",
            "19999  10.947017  2.311302  4.414525  10.947017  1.216335  3.104288  ...   \n",
            "\n",
            "           SRW10     TSRW10          MW       AMW  WPath WPol  Zagreb1  \\\n",
            "0      10.120170  62.006449   96.057515  6.403834     37    4     50.0   \n",
            "1       8.223359  36.088830  126.054161  8.403611     96    9     34.0   \n",
            "2       9.391077  59.792818  130.062994  6.845421     79   11     50.0   \n",
            "3       9.255409  59.241008  125.084064  6.254203     91    6     48.0   \n",
            "4       9.206433  58.472343  126.104465  5.482803     85    9     48.0   \n",
            "...          ...        ...         ...       ...    ...  ...      ...   \n",
            "19995  10.165967  62.811578  122.073165  6.424903     76    9     58.0   \n",
            "19996  10.387918  66.681930  123.068414  6.837134     71   11     68.0   \n",
            "19997   8.199464  49.466505  125.058912  7.816182     99    6     38.0   \n",
            "19998  10.682377  42.876740  122.073165  6.424903     80    8     56.0   \n",
            "19999   8.782476  51.691682  124.100048  5.909526     84   10     42.0   \n",
            "\n",
            "       Zagreb2  mZagreb1  mZagreb2  \n",
            "0         67.0  1.284722  1.319444  \n",
            "1         35.0  4.972222  2.361111  \n",
            "2         60.0  2.673611  1.916667  \n",
            "3         57.0  2.583333  2.027778  \n",
            "4         57.0  2.583333  2.027778  \n",
            "...        ...       ...       ...  \n",
            "19995     76.0  1.784722  1.833333  \n",
            "19996     95.0  1.506944  1.666667  \n",
            "19997     40.0  2.861111  2.250000  \n",
            "19998     72.0  3.986111  1.833333  \n",
            "19999     48.0  4.083333  2.138889  \n",
            "\n",
            "[20000 rows x 1613 columns]\n"
          ]
        }
      ]
    },
    {
      "cell_type": "code",
      "source": [
        "df_all = pd.concat([df_rdkit, data_m], axis=1)\n",
        "print(df_all)"
      ],
      "metadata": {
        "colab": {
          "base_uri": "https://localhost:8080/"
        },
        "id": "XH39HWC9JUIl",
        "outputId": "673f3e3f-5c2a-4d8c-cdf6-ad4bc0380226"
      },
      "execution_count": null,
      "outputs": [
        {
          "output_type": "stream",
          "name": "stdout",
          "text": [
            "       Unnamed: 0      mol_id                    smiles        A        B  \\\n",
            "0            3249    gdb_3250             C1CC11OC2CC12  6.20100  2.37357   \n",
            "1           54069   gdb_54070  NC(=[NH2+])C([N-]C=O)C#N  2.34937  1.13704   \n",
            "2           70760   gdb_70761             OC12CC1OCCOC2  2.49407  1.66830   \n",
            "3           51650   gdb_51651            O=CNC1CC2CC2C1  3.56977  1.08344   \n",
            "4          115918  gdb_115919             CCC1COC2CC2C1  3.51047  1.06282   \n",
            "...           ...         ...                       ...      ...      ...   \n",
            "19995       38825   gdb_38826          C1C2OC3CC=CCC123  2.95820  1.74625   \n",
            "19996       39840   gdb_39841       C1C2C3OC3C3(CC3)N12  2.90099  1.80710   \n",
            "19997       36633   gdb_36634           C1COC(=N1)NCC#N  6.14092  0.76405   \n",
            "19998       68055   gdb_68056        CC12CC(C)(O1)C2C#C  2.05970  1.80984   \n",
            "19999       32429   gdb_32430          Cc1c([nH]cc1NC)C  3.06619  1.18229   \n",
            "\n",
            "             C      mu  alpha    homo    lumo  ...      SRW10     TSRW10  \\\n",
            "0      2.19360  1.5784  61.05 -0.2252  0.0797  ...  10.120170  62.006449   \n",
            "1      0.81606  6.1857  69.45 -0.2611 -0.0157  ...   8.223359  36.088830   \n",
            "2      1.22738  1.2555  71.31 -0.2339  0.0816  ...   9.391077  59.792818   \n",
            "3      1.04209  3.6245  79.17 -0.2477  0.0311  ...   9.255409  59.241008   \n",
            "4      0.90254  1.3573  84.80 -0.2222  0.0787  ...   9.206433  58.472343   \n",
            "...        ...     ...    ...     ...     ...  ...        ...        ...   \n",
            "19995  1.23316  1.6708  79.83 -0.2288  0.0280  ...  10.165967  62.811578   \n",
            "19996  1.43546  0.9974  75.04 -0.2236  0.0647  ...  10.387918  66.681930   \n",
            "19997  0.70079  4.2257  72.16 -0.2356  0.0160  ...   8.199464  49.466505   \n",
            "19998  1.15775  1.7443  82.89 -0.2354  0.0413  ...  10.682377  42.876740   \n",
            "19999  0.86874  1.3122  88.61 -0.1651  0.0592  ...   8.782476  51.691682   \n",
            "\n",
            "               MW       AMW  WPath  WPol  Zagreb1  Zagreb2  mZagreb1  mZagreb2  \n",
            "0       96.057515  6.403834     37     4     50.0     67.0  1.284722  1.319444  \n",
            "1      126.054161  8.403611     96     9     34.0     35.0  4.972222  2.361111  \n",
            "2      130.062994  6.845421     79    11     50.0     60.0  2.673611  1.916667  \n",
            "3      125.084064  6.254203     91     6     48.0     57.0  2.583333  2.027778  \n",
            "4      126.104465  5.482803     85     9     48.0     57.0  2.583333  2.027778  \n",
            "...           ...       ...    ...   ...      ...      ...       ...       ...  \n",
            "19995  122.073165  6.424903     76     9     58.0     76.0  1.784722  1.833333  \n",
            "19996  123.068414  6.837134     71    11     68.0     95.0  1.506944  1.666667  \n",
            "19997  125.058912  7.816182     99     6     38.0     40.0  2.861111  2.250000  \n",
            "19998  122.073165  6.424903     80     8     56.0     72.0  3.986111  1.833333  \n",
            "19999  124.100048  5.909526     84    10     42.0     48.0  4.083333  2.138889  \n",
            "\n",
            "[20000 rows x 1674 columns]\n"
          ]
        }
      ]
    },
    {
      "cell_type": "code",
      "source": [
        "df_all.to_csv('/home/student/Desktop/enam/data_preprocessing/2_all_descriptors.csv')"
      ],
      "metadata": {
        "id": "xsFIRftFJnNf"
      },
      "execution_count": null,
      "outputs": []
    }
  ]
}